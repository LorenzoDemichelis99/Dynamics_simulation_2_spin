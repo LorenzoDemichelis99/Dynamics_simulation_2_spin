{
 "cells": [
  {
   "cell_type": "markdown",
   "metadata": {},
   "source": [
    "# Direct simulation of the 2-spin model on a graph"
   ]
  },
  {
   "cell_type": "markdown",
   "metadata": {},
   "source": [
    "This notebook can be used to simulate the 2-spin model on a generic graph. Let $G=(V,E)$ be the graph, with $V$ being the node set and $E$ being the edge set; it is possible to associate to each node $i \\in V={1,...,N}$ a degree of freedom $x_{i}(t)$ whose dynamics is described by the following equations:\n",
    "\n",
    "\\begin{equation}\n",
    "    \\frac{dx_{i}}{dt} = \\sum_{j \\in \\partial i} J_{ij} x_{j}(t) - \\lambda(t) x_{i}(t) + \\eta_{i}(t)\n",
    "\\end{equation}\n",
    "\n",
    "with $J_{ij} = J_{ji}$ being the coupling constant between node $i$ and node $j$, with $\\lambda(t)$ being the Lagrange multiplier enforcing the spherical constraint ($\\sum_{i}^{N} x_{i}^{2}(t) = N$ at all times) and with $\\eta_{i}(t)$ being a Gaussian random variable whose properties are:\n",
    "\n",
    "\n",
    "\\begin{align*}\n",
    "    & \\langle \\eta_{i}(t) \\rangle = 0 \\\\\n",
    "    & \\langle \\eta_{i}(t) \\eta_{j}(t') \\rangle = 2 D \\delta_{i,j} \\delta(t-t')\n",
    "\\end{align*}\n",
    "\n",
    "\n",
    "where the parameter $D$ sets the amplitude of the fluctuations of the noise."
   ]
  },
  {
   "cell_type": "markdown",
   "metadata": {},
   "source": [
    "Here the libraries required to implement the direct numerical simulations are imported:"
   ]
  },
  {
   "cell_type": "code",
   "execution_count": null,
   "metadata": {},
   "outputs": [],
   "source": [
    "using Random, Statistics, OffsetArrays, LinearAlgebra, Dates, DelimitedFiles, SharedArrays, Revise, Distributions, Plots, Measures, LaTeXStrings, Graphs, Interpolations, ProgressMeter, StatsBase"
   ]
  },
  {
   "cell_type": "markdown",
   "metadata": {},
   "source": [
    "The the files implementing the simualations are imported:"
   ]
  },
  {
   "cell_type": "code",
   "execution_count": null,
   "metadata": {},
   "outputs": [],
   "source": [
    "includet(\"simulation_2_spin.jl\")\n",
    "includet(\"simulation_data_2_spin.jl\")\n",
    "includet(\"simulation_tools_2_spin.jl\")"
   ]
  },
  {
   "cell_type": "markdown",
   "metadata": {},
   "source": [
    "Now the parameter of the simulation can be set:"
   ]
  },
  {
   "cell_type": "code",
   "execution_count": null,
   "metadata": {},
   "outputs": [],
   "source": [
    "T = 10000 # number of time steps\n",
    "Δ = 0.01 # time step\n",
    "Nv = 1000 # number of vertices of the graph\n",
    "k = 10 # connectivity of the graph\n",
    "\n",
    "# choice of the graph§\n",
    "G = random_regular_graph(Nv, k)\n",
    "#G = complete_graph(Nv)\n",
    "\n",
    "gx = x -> 0.01 # g[xᵢ(t)] term of the noise second order moment\n",
    "#Jx = x -> rand() < 0.5 ? 1.0/sqrt(k) : -1.0/sqrt(k) # function that defines the couplings for the disordered case\n",
    "Jx = x -> 1.0/k # function that defines the couplings for the case without disorder\n",
    "x0_init = x -> 0.1 * rand() # this is the function used to initialize the variables\n",
    "noise = true # true for noisy dynamics, false for deterministic dynamics"
   ]
  },
  {
   "cell_type": "markdown",
   "metadata": {},
   "source": [
    "The simulation can be run as:"
   ]
  },
  {
   "cell_type": "code",
   "execution_count": null,
   "metadata": {},
   "outputs": [],
   "source": [
    "result = simulation_2_spin(G, T, Δ, gx, Jx, x0_init, noise)"
   ]
  },
  {
   "cell_type": "markdown",
   "metadata": {},
   "source": [
    "It is possible to plot the trajectories of some of the nodes of the graph as:"
   ]
  },
  {
   "cell_type": "code",
   "execution_count": null,
   "metadata": {},
   "outputs": [],
   "source": [
    "plot_trajectories(result, 10)"
   ]
  },
  {
   "cell_type": "markdown",
   "metadata": {},
   "source": [
    "It is also possible to plot the Lagrange multiplier:"
   ]
  },
  {
   "cell_type": "code",
   "execution_count": null,
   "metadata": {},
   "outputs": [],
   "source": [
    "plot_lgm(result)"
   ]
  },
  {
   "cell_type": "markdown",
   "metadata": {},
   "source": [
    "The average trajectory, the covariance matrix and the correlation matrix are easily computed:"
   ]
  },
  {
   "cell_type": "code",
   "execution_count": null,
   "metadata": {},
   "outputs": [],
   "source": [
    "t₀ = 10\n",
    "tₙ = T\n",
    "μ = Vector{Float64}(undef, tₙ-t₀)\n",
    "C = Matrix{Float64}(undef, (tₙ-t₀,tₙ-t₀))\n",
    "ρ = Matrix{Float64}(undef, (tₙ-t₀,tₙ-t₀))\n",
    "\n",
    "μ, C, ρ = stats_analysis(result)"
   ]
  },
  {
   "cell_type": "markdown",
   "metadata": {},
   "source": [
    "The results of the analysis can be plotted:"
   ]
  },
  {
   "cell_type": "code",
   "execution_count": null,
   "metadata": {},
   "outputs": [],
   "source": [
    "plot_stats(μ, C, ρ, t₀, tₙ)"
   ]
  },
  {
   "cell_type": "markdown",
   "metadata": {},
   "source": [
    "The traejctories obtained in the simulation can be saved:"
   ]
  },
  {
   "cell_type": "code",
   "execution_count": null,
   "metadata": {},
   "outputs": [],
   "source": [
    "folder_path = \"C://your//path\"\n",
    "save_trajectories(result, folder_path)"
   ]
  },
  {
   "cell_type": "markdown",
   "metadata": {},
   "source": [
    "The results of the statistical analysis can be saved:"
   ]
  },
  {
   "cell_type": "code",
   "execution_count": null,
   "metadata": {},
   "outputs": [],
   "source": [
    "folder_path = \"C://your//path\"\n",
    "save_stats(μ, C, ρ, folder_path)"
   ]
  }
 ],
 "metadata": {
  "kernelspec": {
   "display_name": "Julia 1.10.4",
   "language": "julia",
   "name": "julia-1.10"
  },
  "language_info": {
   "file_extension": ".jl",
   "mimetype": "application/julia",
   "name": "julia",
   "version": "1.10.4"
  }
 },
 "nbformat": 4,
 "nbformat_minor": 2
}
